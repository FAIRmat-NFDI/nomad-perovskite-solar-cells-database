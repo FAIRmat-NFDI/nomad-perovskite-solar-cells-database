{
 "cells": [
  {
   "cell_type": "markdown",
   "id": "69d06c6e",
   "metadata": {},
   "source": [
    "\n",
    "<div style=\"\n",
    "    background-color: #f7f7f7;\n",
    "    background-image: url('data:image/svg+xml;base64,PD94bWwgdmVyc2lvbj0iMS4wIiBlbmNvZGluZz0iVVRGLTgiIHN0YW5kYWxvbmU9Im5vIj8+CjxzdmcKICAgd2lkdGg9IjcyIgogICBoZWlnaHQ9IjczIgogICB2aWV3Qm94PSIwIDAgNzIgNzMiCiAgIGZpbGw9Im5vbmUiCiAgIHZlcnNpb249IjEuMSIKICAgaWQ9InN2ZzEzMTkiCiAgIHhtbG5zPSJodHRwOi8vd3d3LnczLm9yZy8yMDAwL3N2ZyIKICAgeG1sbnM6c3ZnPSJodHRwOi8vd3d3LnczLm9yZy8yMDAwL3N2ZyI+CiAgPGRlZnMKICAgICBpZD0iZGVmczEzMjMiIC8+CiAgPHBhdGgKICAgICBkPSJNIC0wLjQ5OTk4NSwxNDUgQyAzOS41MzMsMTQ1IDcyLDExMi41MzIgNzIsNzIuNSA3MiwzMi40Njc4IDM5LjUzMywwIC0wLjQ5OTk4NSwwIC00MC41MzI5LDAgLTczLDMyLjQ2NzggLTczLDcyLjUgYyAwLDQwLjAzMiAzMi40NjcxLDcyLjUgNzIuNTAwMDE1LDcyLjUgeiIKICAgICBmaWxsPSIjMDA4YTY3IgogICAgIGZpbGwtb3BhY2l0eT0iMC4yNSIKICAgICBpZD0icGF0aDEzMTciIC8+Cjwvc3ZnPgo='), url('data:image/svg+xml;base64,PD94bWwgdmVyc2lvbj0iMS4wIiBlbmNvZGluZz0iVVRGLTgiIHN0YW5kYWxvbmU9Im5vIj8+CjxzdmcKICAgd2lkdGg9IjIxNyIKICAgaGVpZ2h0PSIyMjMiCiAgIHZpZXdCb3g9IjAgMCAyMTcgMjIzIgogICBmaWxsPSJub25lIgogICB2ZXJzaW9uPSIxLjEiCiAgIGlkPSJzdmcxMTA3IgogICB4bWxucz0iaHR0cDovL3d3dy53My5vcmcvMjAwMC9zdmciCiAgIHhtbG5zOnN2Zz0iaHR0cDovL3d3dy53My5vcmcvMjAwMC9zdmciPgogIDxkZWZzCiAgICAgaWQ9ImRlZnMxMTExIiAvPgogIDxwYXRoCiAgICAgZD0ibSAyMi4wNDIsNDUuMDEwOSBjIDIxLjM2MjUsMjEuMjc1NyA1NS45NzYsMjEuMjc1NyA3Ny41MTkyLDAgQyAxMTkuNTU4LDI1LjA4IDE1MS41MDIsMjMuNzM1MiAxNzIuODY0LDQxLjM3OCBjIDEuMzQ1LDEuNTI1NCAyLjY5LDMuMjUxNiA0LjIzNiw0Ljc5NzEgMjEuMzYzLDIxLjI3NTYgMjEuMzYzLDU1Ljc5ODkgMCw3Ny4yNTQ5IC0yMS4zNjIsMjEuMjc2IC0yMS4zNjIsNTUuNzk4IDAsNzcuMjU1IDIxLjM2MywyMS40NTYgNTUuOTc2LDIxLjI3NSA3Ny41MiwwIDIxLjU0MywtMjEuMjc2IDIxLjM2MiwtNTUuNzk5IDAsLTc3LjI1NSAtMjEuMzYzLC0yMS4yNzYgLTIxLjM2MywtNTUuNzk4NiAwLC03Ny4yNTQ5IDEyLjY4OSwtMTIuNjQ1IDE3Ljg4OSwtMzAuMTA3MSAxNS4zOTksLTQ2LjU4NTc2IC0xLjU0NiwtMTEuNTAwOTQgLTYuNzI2LC0yMi44MjExNCAtMTUuNTgsLTMxLjYzMjU0IC0yMS4zNjMsLTIxLjI3NTYgLTU1Ljk3NiwtMjEuMjc1NiAtNzcuNTE5LDAgLTIxLjM2MywyMS4yNzU3IC01NS45NzYsMjEuMjc1NyAtNzcuNTE5NCwwIC0yMS4zNjI1LC0yMS4yNzU2IC01NS45NzYxLC0yMS4yNzU2IC03Ny41MTkyLDAgQyAwLjY3OTU2NSwtMTAuNzg3NiAwLjY3OTU5NiwyMy43MzUyIDIyLjA0Miw0NS4wMTA5IFoiCiAgICAgZmlsbD0iIzJhNGNkZiIKICAgICBzdHJva2U9IiMyYTRjZGYiCiAgICAgc3Ryb2tlLXdpZHRoPSIxMiIKICAgICBzdHJva2UtbWl0ZXJsaW1pdD0iMTAiCiAgICAgaWQ9InBhdGgxMTA1IiAvPgogIDxwYXRoCiAgICAgZD0ibSA1MS45OTUyMTIsMjIyLjczMDEzIGMgMjguMzU5MSwwIDUxLjM1ODM5OCwtMjIuOTk5OSA1MS4zNTgzOTgsLTUxLjM1ODQgMCwtMjguMzU4NiAtMjIuOTk5Mjk4LC01MS4zNTg1OSAtNTEuMzU4Mzk4LC01MS4zNTg1OSAtMjguMzU5MSwwIC01MS4zNTg2MDIsMjIuOTk5OTkgLTUxLjM1ODYwMiw1MS4zNTg1OSAwLDI4LjM1ODUgMjIuOTk5NTAyLDUxLjM1ODQgNTEuMzU4NjAyLDUxLjM1ODQgeiIKICAgICBmaWxsPSIjMTkyZTg2IgogICAgIGZpbGwtb3BhY2l0eT0iMC4zNSIKICAgICBpZD0icGF0aDE5MzciIC8+Cjwvc3ZnPgo=') ;\n",
    "    background-position: left bottom, right top;\n",
    "    background-repeat: no-repeat,  no-repeat;\n",
    "    background-size: auto 60px, auto 160px;\n",
    "    border-radius: 5px;\n",
    "    box-shadow: 0px 3px 1px -2px rgba(0, 0, 0, 0.2), 0px 2px 2px 0px rgba(0, 0, 0, 0.14), 0px 1px 5px 0px rgba(0,0,0,.12);\">\n",
    "\n",
    "<h1 style=\"\n",
    "    color: #2a4cdf;\n",
    "    font-style: normal;\n",
    "    font-size: 2.25rem;\n",
    "    line-height: 1.4em;\n",
    "    font-weight: 600;\n",
    "    padding: 30px 200px 0px 30px;\"> \n",
    "        Compositional Based Property Prediction of Perovskites with CrabNet</h1>\n",
    "\n",
    "<p style=\"\n",
    "    line-height: 1.4em;\n",
    "    padding: 30px 200px 0px 30px;\">\n",
    "    This notebook demonstrates how to use <a href=\"https://github.com/sparks-baird/CrabNet\" target=\"_blank\">CrabNet</a> to predict the bandgap of perovskites using data from the <a href=\"https://www.nature.com/articles/s41560-021-00941-3\" target=\"_blank\"><i>Perovskite Database</i></a> in NOMAD for training. The method can be extended to predict other properties of perovskites and can also be combined with other methodologies available in the community for this task. To explore more of these methodologies, we recommend taking a look at <a href=\"https://matbench.materialsproject.org/\" target=\"_blank\">MatBench</a>, a benchmarking suite for these tasks in the materials informatics community.\n",
    "</p>\n",
    "\n",
    "<p style=\"font-size: 1.25em; font-style: italic; padding: 5px 200px 30px 30px;\">\n",
    "    José A. Márquez, Siamak Nakhaie and Hampus Näsström\n",
    "</p>\n",
    "</div>"
   ]
  },
  {
   "cell_type": "markdown",
   "id": "55e4727c",
   "metadata": {},
   "source": [
    "## Outline\n",
    "\n",
    "- [Installations](#installations)\n",
    "- [Retrieve Data using NOMAD API](#retrieve-data-using-nomad-api)\n",
    "- [Save Data](#save-data)\n",
    "- [Load data](#load-data)\n",
    "- [EDA & Data Cleaning](#eda--data-cleaning)\n",
    "  - [Insights from NOMAD GUI](#insights-from-nomad-gui)\n",
    "  - [Remove NaNs](#remove-nans)\n",
    "  - [Group Repeated Formulas](#group-repeated-formulas)\n",
    "  - [Check Element Prevalence](#check-element-prevalence)\n",
    "- [Build and Fit the Model](#build-and-fit-the-model)\n",
    "- [Model evaluation](#model-evaluation)\n",
    "- [Predict Bandgap from Individual Formulas](#predict-bandgap-from-individual-formulas)"
   ]
  },
  {
   "cell_type": "markdown",
   "id": "b2984c8c",
   "metadata": {
    "tags": []
   },
   "source": [
    "## Installations\n",
    "\n",
    "We will start by running a couple of pip installers. Skip this part if you have the libraries installed in your environment."
   ]
  },
  {
   "cell_type": "code",
   "execution_count": null,
   "id": "2754bad9-faf9-4bda-b855-b8667de379d3",
   "metadata": {
    "scrolled": true,
    "tags": []
   },
   "outputs": [],
   "source": [
    "! pip install torch\n",
    "! pip install crabnet\n",
    "! pip install pandas"
   ]
  },
  {
   "cell_type": "markdown",
   "id": "43218800",
   "metadata": {
    "tags": []
   },
   "source": [
    "## Retrieve Data using NOMAD API\n",
    "\n",
    "We will now fetch Perovskite solar cell data from the NOMAD API.  If you already have the data, the **perovskite_bandgap_devices.csv** in the **data** folder, you can skip this part, and continue with Loading Data. Note that calling the database through the API may take a while."
   ]
  },
  {
   "cell_type": "code",
   "execution_count": 11,
   "id": "201b38f2",
   "metadata": {},
   "outputs": [
    {
     "name": "stdout",
     "output_type": "stream",
     "text": [
      "Total number of entries: 43108\n",
      "200\n",
      "200\n",
      "200\n",
      "200\n",
      "200\n",
      "200\n",
      "200\n",
      "200\n",
      "200\n",
      "200\n",
      "200\n",
      "200\n",
      "200\n",
      "200\n",
      "200\n",
      "200\n",
      "200\n",
      "200\n",
      "200\n",
      "200\n",
      "200\n",
      "200\n",
      "200\n",
      "200\n",
      "200\n",
      "200\n",
      "200\n",
      "200\n",
      "200\n",
      "200\n",
      "200\n",
      "200\n",
      "200\n",
      "200\n",
      "200\n",
      "200\n",
      "200\n",
      "200\n",
      "200\n",
      "200\n",
      "200\n",
      "200\n",
      "200\n",
      "200\n",
      "Query took 1230.80 seconds\n"
     ]
    }
   ],
   "source": [
    "from time import monotonic\n",
    "\n",
    "import jmespath\n",
    "import requests\n",
    "\n",
    "base_url = 'https://nomad-lab.eu/prod/v1/api/v1'\n",
    "bandgaps = []\n",
    "reduced_formulas = []\n",
    "descriptive_formulas = []\n",
    "page_after_value = None\n",
    "\n",
    "\n",
    "def extract_values(entry):\n",
    "    bandgaps.append(\n",
    "        jmespath.search(\n",
    "            'results.properties.electronic.band_structure_electronic[0].band_gap[0].value',\n",
    "            entry,\n",
    "        )\n",
    "    )\n",
    "    reduced_formulas.append(\n",
    "        jmespath.search('results.material.chemical_formula_reduced', entry)\n",
    "    )\n",
    "    descriptive_formulas.append(\n",
    "        jmespath.search('results.material.chemical_formula_descriptive', entry)\n",
    "    )\n",
    "\n",
    "\n",
    "start = monotonic()\n",
    "while True:\n",
    "    response = requests.post(\n",
    "        f'{base_url}/entries/query',\n",
    "        json={\n",
    "            'owner': 'visible',\n",
    "            'query': {\n",
    "                'and': [\n",
    "                    # {\"results.material.elements:all\": [\"Sn\"]},\n",
    "                    {'sections:all': ['nomad.datamodel.results.SolarCell']}\n",
    "                ]\n",
    "            },\n",
    "            'pagination': {'page_size': 1000, 'page_after_value': page_after_value},\n",
    "        },\n",
    "    )\n",
    "    response_code = response.status_code\n",
    "    data = response.json()\n",
    "    pagination = data['pagination']\n",
    "    if page_after_value is None:\n",
    "        print(f'Total number of entries: {pagination[\"total\"]}')\n",
    "    print(response_code)\n",
    "    page_after_value = data['pagination'].get('next_page_after_value')\n",
    "\n",
    "    for entry in data['data']:\n",
    "        extract_values(entry)\n",
    "    if not page_after_value:\n",
    "        break\n",
    "    end = monotonic()\n",
    "\n",
    "print(f'Query took {end - start:.2f} seconds')"
   ]
  },
  {
   "cell_type": "markdown",
   "id": "bac0c1af-9022-4c3e-a609-ccfbaeed512f",
   "metadata": {},
   "source": [
    "You can verify that the data was fetched correctly by checking the length of of of the lists, e.g., bandgap"
   ]
  },
  {
   "cell_type": "markdown",
   "id": "49cf4079-2557-4209-a788-909b7cb6ba4a",
   "metadata": {},
   "source": [
    "## Save Data"
   ]
  },
  {
   "cell_type": "markdown",
   "id": "45ead1b8",
   "metadata": {
    "tags": []
   },
   "source": [
    "### Put Data into a Pandas DataFrame and Save\n",
    "\n",
    "We can also have a quick look on the DataFrame, and change the units of the bandgap from J to eV. \n",
    "\n",
    "<div class=\"alert alert-block alert-info\">\n",
    "⚠️ The data in the `results` section of NOMAD is stored in SI units.\n",
    "</div>"
   ]
  },
  {
   "cell_type": "code",
   "execution_count": 13,
   "id": "94cbee46",
   "metadata": {},
   "outputs": [],
   "source": [
    "import os\n",
    "\n",
    "import pandas as pd\n",
    "\n",
    "df = pd.DataFrame(\n",
    "    {\n",
    "        'reduced_formulas': reduced_formulas,\n",
    "        'descriptive_formulas': descriptive_formulas,\n",
    "        'bandgap': bandgaps,\n",
    "    }\n",
    ")\n",
    "\n",
    "df['bandgap'] = pd.to_numeric(df['bandgap'], errors='coerce')\n",
    "df['bandgap'] = df['bandgap'] * 6.24150974e18\n",
    "df.head()\n",
    "\n",
    "if not os.path.exists('data'):\n",
    "    os.makedirs('data')\n",
    "df.to_csv('data/perovskite_bandgap_devices.csv', index=False)"
   ]
  },
  {
   "cell_type": "markdown",
   "id": "467cbf45",
   "metadata": {
    "tags": []
   },
   "source": [
    "## Load data \n",
    "\n",
    "In the previous part, we retrieved perovskite solar cell data using the NOMAD API, converted it to a Pandas DataFrame, and saved it as **perovskite_bandgap_devices.csv** in the **data** folder. If you already have the data, you can start from this section, where we will import and clean it.\n",
    "\n",
    "The distribution of the chemical diveristy of the dataset can be viewed in the dynamic periodioc table of the NOMAD entries explorer. The down right corner of every element shows the number of entries (solar cells) that contain in the absorber a given element. It becomes obvius that the data set is imbalance with the majority of the entries being *Pb* based, containing *C*, *N* anf *H* (hybrid perovskites) and mostly halide compounds, with most of the entries having *I* and/or *Br*. "
   ]
  },
  {
   "cell_type": "code",
   "execution_count": 14,
   "id": "cf00a3e3",
   "metadata": {
    "scrolled": true,
    "tags": []
   },
   "outputs": [
    {
     "data": {
      "text/html": [
       "<div>\n",
       "<style scoped>\n",
       "    .dataframe tbody tr th:only-of-type {\n",
       "        vertical-align: middle;\n",
       "    }\n",
       "\n",
       "    .dataframe tbody tr th {\n",
       "        vertical-align: top;\n",
       "    }\n",
       "\n",
       "    .dataframe thead th {\n",
       "        text-align: right;\n",
       "    }\n",
       "</style>\n",
       "<table border=\"1\" class=\"dataframe\">\n",
       "  <thead>\n",
       "    <tr style=\"text-align: right;\">\n",
       "      <th></th>\n",
       "      <th>reduced_formulas</th>\n",
       "      <th>descriptive_formulas</th>\n",
       "      <th>bandgap</th>\n",
       "    </tr>\n",
       "  </thead>\n",
       "  <tbody>\n",
       "    <tr>\n",
       "      <th>0</th>\n",
       "      <td>CH6I3NPb</td>\n",
       "      <td>MAPbI3</td>\n",
       "      <td>1.6</td>\n",
       "    </tr>\n",
       "    <tr>\n",
       "      <th>1</th>\n",
       "      <td>CH6I3NPb</td>\n",
       "      <td>MAPbI3</td>\n",
       "      <td>NaN</td>\n",
       "    </tr>\n",
       "    <tr>\n",
       "      <th>2</th>\n",
       "      <td>CH6I3NPb</td>\n",
       "      <td>MAPbI3</td>\n",
       "      <td>1.5</td>\n",
       "    </tr>\n",
       "    <tr>\n",
       "      <th>3</th>\n",
       "      <td>CH6I3NPb</td>\n",
       "      <td>MAPbI3</td>\n",
       "      <td>1.6</td>\n",
       "    </tr>\n",
       "    <tr>\n",
       "      <th>4</th>\n",
       "      <td>CH6I3NPb</td>\n",
       "      <td>MAPbI3</td>\n",
       "      <td>1.6</td>\n",
       "    </tr>\n",
       "  </tbody>\n",
       "</table>\n",
       "</div>"
      ],
      "text/plain": [
       "  reduced_formulas descriptive_formulas  bandgap\n",
       "0         CH6I3NPb               MAPbI3      1.6\n",
       "1         CH6I3NPb               MAPbI3      NaN\n",
       "2         CH6I3NPb               MAPbI3      1.5\n",
       "3         CH6I3NPb               MAPbI3      1.6\n",
       "4         CH6I3NPb               MAPbI3      1.6"
      ]
     },
     "execution_count": 14,
     "metadata": {},
     "output_type": "execute_result"
    }
   ],
   "source": [
    "import pandas as pd\n",
    "\n",
    "df = pd.read_csv('data/perovskite_bandgap_devices.csv')\n",
    "df.head()"
   ]
  },
  {
   "cell_type": "markdown",
   "id": "25a73f28-074c-4e53-b107-56e493664762",
   "metadata": {},
   "source": [
    "## EDA & Data Cleaning\n",
    "\n",
    "Exploratory Data Analysis (EDA) is a useful step in understanding and preparing datasets for modeling by summarizing data, checking for anomalies, finding patterns and relationships.\n",
    "\n",
    "### Insights from NOMAD GUI\n",
    "\n",
    "The distribution of chemical diversity of the dataset can be explored using the [periodic table in the NOMAD solar cell app](https://nomad-lab.eu/prod/v1/gui/search/solarcells). The bottom-right corner of each element displays the number of entries (solar cells) that include the element in the absorber. The dataset is notably imbalanced, with the majority of entries being Pb-based, containing C, N, H (hybrid perovskites), and halides like I and Br.\n",
    "\n",
    "Let's have a look on the statistical summary of the dataset:"
   ]
  },
  {
   "cell_type": "code",
   "execution_count": null,
   "id": "168b1171-96a1-4744-ba44-be8f5fc129e3",
   "metadata": {
    "scrolled": true
   },
   "outputs": [],
   "source": [
    "df.describe()"
   ]
  },
  {
   "cell_type": "markdown",
   "id": "d70a90b1-9b09-4561-a965-3210ef987ab8",
   "metadata": {},
   "source": [
    "We can see that the dataset contains a diverse range of bandgap values (1.16 to 3.05 eV). Some parameters such as open circuit voltage (voc) and fill factor (ff), include extreme or zero values, which might need attention for data cleaning."
   ]
  },
  {
   "cell_type": "markdown",
   "id": "a1e7c029-c4a7-4b7a-82ce-a65ddaf5c1f1",
   "metadata": {},
   "source": [
    "### Remove NaNs"
   ]
  },
  {
   "cell_type": "markdown",
   "id": "e9bc4068-5d06-4fd5-857d-af5af611656d",
   "metadata": {},
   "source": [
    "The dataset might include missing values, let's check if there are any:"
   ]
  },
  {
   "cell_type": "code",
   "execution_count": null,
   "id": "f195e8f0-75e6-47d1-a82f-2487271bcbbe",
   "metadata": {},
   "outputs": [],
   "source": [
    "df.isna().sum()"
   ]
  },
  {
   "cell_type": "markdown",
   "id": "cf46b178-0915-46ae-a6c7-19f82c893395",
   "metadata": {},
   "source": [
    " Let's now keep only the part of the dataframe, where the value for bandgap is not Na."
   ]
  },
  {
   "cell_type": "code",
   "execution_count": null,
   "id": "a78efdda-6c82-4ea3-ba6d-ee0ed2082376",
   "metadata": {},
   "outputs": [],
   "source": [
    "df = df[df['bandgap'].notna()]\n",
    "df = df[df['reduced_formulas'].notna()]"
   ]
  },
  {
   "cell_type": "code",
   "execution_count": null,
   "id": "f8eb96f5-5e44-4078-82b1-8586a33be367",
   "metadata": {},
   "outputs": [],
   "source": [
    "df.isna().sum()"
   ]
  },
  {
   "cell_type": "markdown",
   "id": "94731963-53a4-4f48-8a1d-5f83b1a20351",
   "metadata": {},
   "source": [
    "### Group Repeated Formulas"
   ]
  },
  {
   "cell_type": "markdown",
   "id": "f00afac3-6b38-45b4-87d7-dc4302f23f81",
   "metadata": {},
   "source": [
    "Even before checking the dataset, we can already guess that are many repeated formulas and bandgap values in the DataFrame. But let's verify it:"
   ]
  },
  {
   "cell_type": "code",
   "execution_count": null,
   "id": "ddef79c2-a7cf-4a1a-9fe4-272d3a541a53",
   "metadata": {},
   "outputs": [],
   "source": [
    "df['reduced_formulas'].value_counts().head(10)"
   ]
  },
  {
   "cell_type": "markdown",
   "id": "736bcfa9-a661-4ece-8430-566e8cf7a26b",
   "metadata": {},
   "source": [
    "The dataset contains many repeated formulas and corresponding bandgap values. To make sure each formula is unique, we will use the `groupby_formula` function from CrabNet to group entries by their formulas and use the mean values for their bandgap. We make a new final DataFrame for our model, call it **df_reduced_formula** and adjust colum names etc.\n",
    "\n",
    "Let's rename columns and use the `gourpby_formula` function from CrabNet:"
   ]
  },
  {
   "cell_type": "code",
   "execution_count": null,
   "id": "e1444899-4499-4990-83ea-ff00564cd4d2",
   "metadata": {},
   "outputs": [],
   "source": [
    "from crabnet.utils.data import groupby_formula  # type: ignore\n",
    "\n",
    "# Rename the column 'bandgap' to 'target', and 'reduced_formula' to 'formula'\n",
    "df.rename(columns={'bandgap': 'target'}, inplace=True)\n",
    "df.rename(columns={'reduced_formulas': 'formula'}, inplace=True)\n",
    "\n",
    "# Group repeated formulas and take the mean of the target\n",
    "df_grouped_formula = groupby_formula(df, how='mean')\n",
    "df_grouped_formula.head()"
   ]
  },
  {
   "cell_type": "markdown",
   "id": "acc88fcb-c3f1-4750-9376-013dca3a75c5",
   "metadata": {},
   "source": [
    "Let's check the shape of the DataFrame we would like to use for our ML:"
   ]
  },
  {
   "cell_type": "code",
   "execution_count": null,
   "id": "a04d26b9-769e-497f-8836-738225879c66",
   "metadata": {},
   "outputs": [],
   "source": [
    "df_grouped_formula.shape"
   ]
  },
  {
   "cell_type": "markdown",
   "id": "486de2f5-6266-4df4-9152-c31067645df1",
   "metadata": {},
   "source": [
    "### Check Element Prevalence \n",
    "\n",
    "We will use `pymatviz` ([link to docs](https://pymatviz.janosh.dev/)) for visualizing the element prevalence.\n",
    "\n",
    "Run the following snippet if the package is not installed in the environment yet, otherwise skip it.\n",
    "\n",
    "You can simply try:"
   ]
  },
  {
   "cell_type": "code",
   "execution_count": null,
   "id": "18572e46-6051-4892-aa25-b784c8a2c786",
   "metadata": {},
   "outputs": [],
   "source": [
    "! pip install pymatviz"
   ]
  },
  {
   "cell_type": "markdown",
   "id": "6e983118-040c-4f51-9a75-0ad1b3b99c33",
   "metadata": {},
   "source": [
    "in case of problems, try it from its developer repo:\n",
    "\n",
    "! pip install git+https://github.com/janosh/pymatviz\n",
    "\n",
    "Once installed, we import and use it:"
   ]
  },
  {
   "cell_type": "code",
   "execution_count": null,
   "id": "515cabd6-a56d-41c1-92a4-c1f340a95d64",
   "metadata": {},
   "outputs": [],
   "source": [
    "from pymatviz import ptable_heatmap_plotly  # type: ignore\n",
    "\n",
    "ptable_heatmap_plotly(\n",
    "    df_grouped_formula['formula'],\n",
    "    log=True,\n",
    "    colorscale='BuPu',\n",
    "    font_colors='black',\n",
    "    fmt='.3g',\n",
    "    colorbar=dict(orientation='v', title='Element Prevalence'),\n",
    ")"
   ]
  },
  {
   "cell_type": "markdown",
   "id": "e2736b48-f4d4-4a01-9761-6908d32f9913",
   "metadata": {},
   "source": [
    "As you can see the current data is heavily based on hybrid halide perovskites, so we expect the model to perform better when predicting these materials. Let's continue and build the model in the next section!"
   ]
  },
  {
   "cell_type": "markdown",
   "id": "15b49590",
   "metadata": {
    "tags": []
   },
   "source": [
    "## Build and Fit the Model "
   ]
  },
  {
   "cell_type": "markdown",
   "id": "298d1714",
   "metadata": {},
   "source": [
    "We randomize the dataset and split it into training, validation, and test sets in a ratio of 80%, 10%, and 10%, respectively."
   ]
  },
  {
   "cell_type": "code",
   "execution_count": null,
   "id": "e8d17dfc",
   "metadata": {
    "scrolled": true,
    "tags": []
   },
   "outputs": [],
   "source": [
    "import numpy as np\n",
    "\n",
    "train_df, val_df, test_df = np.split(\n",
    "    df_grouped_formula.sample(frac=1, random_state=42),\n",
    "    [int(0.8 * len(df_grouped_formula)), int(0.9 * len(df_grouped_formula))],\n",
    ")"
   ]
  },
  {
   "cell_type": "markdown",
   "id": "7d85769a-d874-45fe-9ff2-740b9ff5a8be",
   "metadata": {},
   "source": [
    "We then fit the model using the CrabNet implementation."
   ]
  },
  {
   "cell_type": "code",
   "execution_count": null,
   "id": "c0bc4809",
   "metadata": {
    "tags": []
   },
   "outputs": [],
   "source": [
    "from crabnet.crabnet_ import CrabNet  # type: ignore\n",
    "\n",
    "crabnet_bandgap = CrabNet(\n",
    "    mat_prop='bandgap',\n",
    "    model_name='perovskite_bg_prediction',\n",
    "    elem_prop='mat2vec',\n",
    "    learningcurve=True,\n",
    ")\n",
    "crabnet_bandgap.fit(train_df, val_df)"
   ]
  },
  {
   "cell_type": "markdown",
   "id": "2c3cd78c",
   "metadata": {
    "tags": []
   },
   "source": [
    "## Model evaluation"
   ]
  },
  {
   "cell_type": "markdown",
   "id": "3f86c3c8",
   "metadata": {},
   "source": [
    "After training, we evaluate the model using the validation data."
   ]
  },
  {
   "cell_type": "code",
   "execution_count": null,
   "id": "c1211882-441c-4520-91ed-b57dfd35ac1b",
   "metadata": {},
   "outputs": [],
   "source": [
    "from crabnet.utils.figures import act_pred  # type: ignore\n",
    "from sklearn.metrics import mean_absolute_error, mean_squared_error, r2_score\n",
    "\n",
    "# Train data\n",
    "train_df_zeros = pd.DataFrame(\n",
    "    {'formula': train_df['formula'], 'target': [0.0] * len(train_df['formula'])}\n",
    ")\n",
    "train_df_predicted, train_df_predicted_sigma = crabnet_bandgap.predict(\n",
    "    train_df_zeros, return_uncertainty=True\n",
    ")\n",
    "\n",
    "act_pred(train_df['target'], train_df_predicted)\n",
    "r2 = r2_score(train_df['target'], train_df_predicted)\n",
    "print(f'R2 score: {r2}')\n",
    "mse = mean_squared_error(train_df['target'], train_df_predicted)\n",
    "print(f'MSE: {mse}')\n",
    "mae = mean_absolute_error(train_df['target'], train_df_predicted)\n",
    "print(f'MAE: {mae} eV')"
   ]
  },
  {
   "cell_type": "markdown",
   "id": "8f6dcc8e-6e16-4bc1-a82d-121c253c638e",
   "metadata": {},
   "source": [
    "for validation data we have:"
   ]
  },
  {
   "cell_type": "code",
   "execution_count": null,
   "id": "bb092e7e-a4a2-47c5-984a-5017347f5699",
   "metadata": {},
   "outputs": [],
   "source": [
    "# Validation data\n",
    "val_df_zeros = pd.DataFrame(\n",
    "    {'formula': val_df['formula'], 'target': [0.0] * len(val_df['formula'])}\n",
    ")\n",
    "val_df_predicted, val_df_predicted_sigma = crabnet_bandgap.predict(\n",
    "    val_df_zeros, return_uncertainty=True\n",
    ")\n",
    "\n",
    "act_pred(val_df['target'], val_df_predicted)\n",
    "r2 = r2_score(val_df['target'], val_df_predicted)\n",
    "print(f'R2 score: {r2}')\n",
    "mse = mean_squared_error(val_df['target'], val_df_predicted)\n",
    "print(f'MSE: {mse}')\n",
    "mae = mean_absolute_error(val_df['target'], val_df_predicted)\n",
    "print(f'MAE: {mae} eV')"
   ]
  },
  {
   "cell_type": "markdown",
   "id": "ae11525b-ce18-4f5b-a949-1d87588c4b6b",
   "metadata": {},
   "source": [
    "and finally for test data:"
   ]
  },
  {
   "cell_type": "code",
   "execution_count": null,
   "id": "20291e48-ce87-47a6-969d-72a31a786cf9",
   "metadata": {},
   "outputs": [],
   "source": [
    "# Test data\n",
    "\n",
    "test_df_zeros = pd.DataFrame(\n",
    "    {'formula': test_df['formula'], 'target': [0.0] * len(test_df['formula'])}\n",
    ")\n",
    "test_df_predicted, test_df_predicted_sigma = crabnet_bandgap.predict(\n",
    "    test_df_zeros, return_uncertainty=True\n",
    ")\n",
    "\n",
    "act_pred(test_df['target'], test_df_predicted)\n",
    "\n",
    "r2 = r2_score(test_df['target'], test_df_predicted)\n",
    "print(f'R2 score: {r2}')\n",
    "mse = mean_squared_error(test_df['target'], test_df_predicted)\n",
    "print(f'MSE: {mse}')\n",
    "mae = mean_absolute_error(test_df['target'], test_df_predicted)\n",
    "print(f'MAE: {mae} eV')"
   ]
  },
  {
   "cell_type": "markdown",
   "id": "99caedbf",
   "metadata": {
    "tags": []
   },
   "source": [
    "## Predict Bandgap from Individual Formulas\n",
    "\n",
    "Now we are ready to run some predictions using our trainned model. \n",
    "We will start loading the model just in case you want to start direcly here in a new session and the model weights are available."
   ]
  },
  {
   "cell_type": "code",
   "execution_count": null,
   "id": "f1fe6255-0037-4faf-836b-d0a19d5e2221",
   "metadata": {},
   "outputs": [],
   "source": [
    "import numpy as np\n",
    "import pandas as pd  # only if you jump to this cell directly\n",
    "from crabnet.crabnet_ import CrabNet  # type: ignore\n",
    "from crabnet.kingcrab import SubCrab  # type: ignore\n",
    "\n",
    "# Instantiate SubCrab\n",
    "sub_crab_model = SubCrab()\n",
    "\n",
    "# Instantiate CrabNet and set its model to SubCrab\n",
    "crabnet_model = CrabNet()\n",
    "crabnet_model.model = sub_crab_model\n",
    "\n",
    "# Load the pre-trained network\n",
    "file_path = r'perovskite_bg_prediction.pth'\n",
    "crabnet_model.load_network(file_path)"
   ]
  },
  {
   "cell_type": "markdown",
   "id": "6c6bb42e-7a62-4203-b9f7-ab876b7d920f",
   "metadata": {},
   "source": [
    "Then define a function and run it for predicting the bandgap from individual formulas:\n"
   ]
  },
  {
   "cell_type": "code",
   "execution_count": null,
   "id": "e2e93430-22a8-44c5-92f0-d0818321768d",
   "metadata": {},
   "outputs": [],
   "source": [
    "# Function to predict the bandgap of a given formula\n",
    "def predict_bandgap(formula):\n",
    "    input_df = pd.DataFrame({'formula': [formula], 'target': [0.0]})\n",
    "    prediction, prediction_sigma = crabnet_bandgap.predict(\n",
    "        input_df, return_uncertainty=True\n",
    "    )\n",
    "    return prediction, prediction_sigma\n",
    "\n",
    "\n",
    "# Main script to take user input and display predictions\n",
    "while True:\n",
    "    formula = input(\n",
    "        \"Enter a formula (e.g., CsPbBr3, CH3NH3PbI3) or type 'exit' to quit: \"\n",
    "    )\n",
    "    if formula.lower() == 'exit':\n",
    "        print('Exiting prediction tool. Goodbye!')\n",
    "        break\n",
    "    try:\n",
    "        prediction, prediction_sigma = predict_bandgap(formula)\n",
    "        print(\n",
    "            f'Predicted bandgap: {np.round(prediction[0], 3)} +/- {np.round(prediction_sigma[0], 3)} eV'\n",
    "        )\n",
    "    except Exception as e:\n",
    "        print(f'Error during prediction: {e}')"
   ]
  },
  {
   "cell_type": "markdown",
   "id": "abf18ddf-4a37-4ac5-bac0-b4868425c400",
   "metadata": {},
   "source": [
    "Alternatively, this interactive widget allows you to input a chemical formula, predict its bandgap using the trained model, and check if the formula exists in the dataset. If it does, the widget displays the average bandgap value used during training."
   ]
  },
  {
   "cell_type": "code",
   "execution_count": null,
   "id": "19983a7e-ee6e-445a-8871-e648da2bedf4",
   "metadata": {},
   "outputs": [],
   "source": [
    "import numpy as np\n",
    "import pandas as pd\n",
    "from IPython.display import display\n",
    "from ipywidgets import Button, HBox, Output, Text, VBox\n",
    "\n",
    "\n",
    "# Function to predict the bandgap of a given formula\n",
    "def predict_bandgap(formula):\n",
    "    val_df = pd.DataFrame({'formula': [formula], 'target': [0.0]})\n",
    "    prediction, prediction_sigma = crabnet_bandgap.predict(\n",
    "        val_df, return_uncertainty=True\n",
    "    )\n",
    "    return prediction, prediction_sigma\n",
    "\n",
    "\n",
    "# Function to check if the formula exists in the dataset\n",
    "def check_formula_in_dataset(formula):\n",
    "    if formula in df_grouped_formula['formula'].values:\n",
    "        avg_bandgap = df_grouped_formula.loc[\n",
    "            df_grouped_formula['formula'] == formula, 'target'\n",
    "        ].values[0]\n",
    "        return avg_bandgap\n",
    "    else:\n",
    "        return None\n",
    "\n",
    "\n",
    "# Setting up the widget interface\n",
    "formula_input = Text(\n",
    "    value='',\n",
    "    placeholder='Enter formula (e.g., CsPbBr3)',\n",
    "    description='Formula:',\n",
    ")\n",
    "predict_button = Button(description='Predict Bandgap', button_style='success')\n",
    "output = Output()\n",
    "\n",
    "\n",
    "def on_click(b):\n",
    "    with output:\n",
    "        output.clear_output()\n",
    "        try:\n",
    "            formula = formula_input.value.strip()\n",
    "            if not formula:\n",
    "                print('Please enter a valid chemical formula.')\n",
    "                return\n",
    "\n",
    "            # Prediction\n",
    "            prediction, sigma = predict_bandgap(formula)\n",
    "            print(\n",
    "                f'Predicted Bandgap: {np.round(prediction[0], 3)} ± {np.round(sigma[0], 3)} eV'\n",
    "            )\n",
    "\n",
    "            # Dataset check\n",
    "            avg_bandgap = check_formula_in_dataset(formula)\n",
    "            if avg_bandgap is not None:\n",
    "                print(\n",
    "                    f'The averaged literature bandgap for {formula} is {avg_bandgap:.3f} eV (from dataset).'\n",
    "                )\n",
    "            else:\n",
    "                print(f\"The formula '{formula}' is not contained in the dataset.\")\n",
    "        except Exception as e:\n",
    "            print(f'Error: {e}')\n",
    "\n",
    "\n",
    "predict_button.on_click(on_click)\n",
    "\n",
    "display(VBox([HBox([formula_input, predict_button]), output]))"
   ]
  }
 ],
 "metadata": {
  "kernelspec": {
   "display_name": ".pyenv",
   "language": "python",
   "name": "python3"
  },
  "language_info": {
   "codemirror_mode": {
    "name": "ipython",
    "version": 3
   },
   "file_extension": ".py",
   "mimetype": "text/x-python",
   "name": "python",
   "nbconvert_exporter": "python",
   "pygments_lexer": "ipython3",
   "version": "3.11.9"
  },
  "varInspector": {
   "cols": {
    "lenName": 16,
    "lenType": 16,
    "lenVar": 40
   },
   "kernels_config": {
    "python": {
     "delete_cmd_postfix": "",
     "delete_cmd_prefix": "del ",
     "library": "var_list.py",
     "varRefreshCmd": "print(var_dic_list())"
    },
    "r": {
     "delete_cmd_postfix": ") ",
     "delete_cmd_prefix": "rm(",
     "library": "var_list.r",
     "varRefreshCmd": "cat(var_dic_list()) "
    }
   },
   "types_to_exclude": [
    "module",
    "function",
    "builtin_function_or_method",
    "instance",
    "_Feature"
   ],
   "window_display": false
  }
 },
 "nbformat": 4,
 "nbformat_minor": 5
}
