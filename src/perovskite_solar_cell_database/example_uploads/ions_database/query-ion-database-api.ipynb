{
 "cells": [
  {
   "cell_type": "markdown",
   "metadata": {},
   "source": [
    "\n",
    "<div style=\"\n",
    "    background-color: #f7f7f7;\n",
    "    background-image: url('data:image/svg+xml;base64,PD94bWwgdmVyc2lvbj0iMS4wIiBlbmNvZGluZz0iVVRGLTgiIHN0YW5kYWxvbmU9Im5vIj8+CjxzdmcKICAgd2lkdGg9IjcyIgogICBoZWlnaHQ9IjczIgogICB2aWV3Qm94PSIwIDAgNzIgNzMiCiAgIGZpbGw9Im5vbmUiCiAgIHZlcnNpb249IjEuMSIKICAgaWQ9InN2ZzEzMTkiCiAgIHhtbG5zPSJodHRwOi8vd3d3LnczLm9yZy8yMDAwL3N2ZyIKICAgeG1sbnM6c3ZnPSJodHRwOi8vd3d3LnczLm9yZy8yMDAwL3N2ZyI+CiAgPGRlZnMKICAgICBpZD0iZGVmczEzMjMiIC8+CiAgPHBhdGgKICAgICBkPSJNIC0wLjQ5OTk4NSwxNDUgQyAzOS41MzMsMTQ1IDcyLDExMi41MzIgNzIsNzIuNSA3MiwzMi40Njc4IDM5LjUzMywwIC0wLjQ5OTk4NSwwIC00MC41MzI5LDAgLTczLDMyLjQ2NzggLTczLDcyLjUgYyAwLDQwLjAzMiAzMi40NjcxLDcyLjUgNzIuNTAwMDE1LDcyLjUgeiIKICAgICBmaWxsPSIjMDA4YTY3IgogICAgIGZpbGwtb3BhY2l0eT0iMC4yNSIKICAgICBpZD0icGF0aDEzMTciIC8+Cjwvc3ZnPgo='), url('data:image/svg+xml;base64,PD94bWwgdmVyc2lvbj0iMS4wIiBlbmNvZGluZz0iVVRGLTgiIHN0YW5kYWxvbmU9Im5vIj8+CjxzdmcKICAgd2lkdGg9IjIxNyIKICAgaGVpZ2h0PSIyMjMiCiAgIHZpZXdCb3g9IjAgMCAyMTcgMjIzIgogICBmaWxsPSJub25lIgogICB2ZXJzaW9uPSIxLjEiCiAgIGlkPSJzdmcxMTA3IgogICB4bWxucz0iaHR0cDovL3d3dy53My5vcmcvMjAwMC9zdmciCiAgIHhtbG5zOnN2Zz0iaHR0cDovL3d3dy53My5vcmcvMjAwMC9zdmciPgogIDxkZWZzCiAgICAgaWQ9ImRlZnMxMTExIiAvPgogIDxwYXRoCiAgICAgZD0ibSAyMi4wNDIsNDUuMDEwOSBjIDIxLjM2MjUsMjEuMjc1NyA1NS45NzYsMjEuMjc1NyA3Ny41MTkyLDAgQyAxMTkuNTU4LDI1LjA4IDE1MS41MDIsMjMuNzM1MiAxNzIuODY0LDQxLjM3OCBjIDEuMzQ1LDEuNTI1NCAyLjY5LDMuMjUxNiA0LjIzNiw0Ljc5NzEgMjEuMzYzLDIxLjI3NTYgMjEuMzYzLDU1Ljc5ODkgMCw3Ny4yNTQ5IC0yMS4zNjIsMjEuMjc2IC0yMS4zNjIsNTUuNzk4IDAsNzcuMjU1IDIxLjM2MywyMS40NTYgNTUuOTc2LDIxLjI3NSA3Ny41MiwwIDIxLjU0MywtMjEuMjc2IDIxLjM2MiwtNTUuNzk5IDAsLTc3LjI1NSAtMjEuMzYzLC0yMS4yNzYgLTIxLjM2MywtNTUuNzk4NiAwLC03Ny4yNTQ5IDEyLjY4OSwtMTIuNjQ1IDE3Ljg4OSwtMzAuMTA3MSAxNS4zOTksLTQ2LjU4NTc2IC0xLjU0NiwtMTEuNTAwOTQgLTYuNzI2LC0yMi44MjExNCAtMTUuNTgsLTMxLjYzMjU0IC0yMS4zNjMsLTIxLjI3NTYgLTU1Ljk3NiwtMjEuMjc1NiAtNzcuNTE5LDAgLTIxLjM2MywyMS4yNzU3IC01NS45NzYsMjEuMjc1NyAtNzcuNTE5NCwwIC0yMS4zNjI1LC0yMS4yNzU2IC01NS45NzYxLC0yMS4yNzU2IC03Ny41MTkyLDAgQyAwLjY3OTU2NSwtMTAuNzg3NiAwLjY3OTU5NiwyMy43MzUyIDIyLjA0Miw0NS4wMTA5IFoiCiAgICAgZmlsbD0iIzJhNGNkZiIKICAgICBzdHJva2U9IiMyYTRjZGYiCiAgICAgc3Ryb2tlLXdpZHRoPSIxMiIKICAgICBzdHJva2UtbWl0ZXJsaW1pdD0iMTAiCiAgICAgaWQ9InBhdGgxMTA1IiAvPgogIDxwYXRoCiAgICAgZD0ibSA1MS45OTUyMTIsMjIyLjczMDEzIGMgMjguMzU5MSwwIDUxLjM1ODM5OCwtMjIuOTk5OSA1MS4zNTgzOTgsLTUxLjM1ODQgMCwtMjguMzU4NiAtMjIuOTk5Mjk4LC01MS4zNTg1OSAtNTEuMzU4Mzk4LC01MS4zNTg1OSAtMjguMzU5MSwwIC01MS4zNTg2MDIsMjIuOTk5OTkgLTUxLjM1ODYwMiw1MS4zNTg1OSAwLDI4LjM1ODUgMjIuOTk5NTAyLDUxLjM1ODQgNTEuMzU4NjAyLDUxLjM1ODQgeiIKICAgICBmaWxsPSIjMTkyZTg2IgogICAgIGZpbGwtb3BhY2l0eT0iMC4zNSIKICAgICBpZD0icGF0aDE5MzciIC8+Cjwvc3ZnPgo=') ;\n",
    "    background-position: left bottom, right top;\n",
    "    background-repeat: no-repeat,  no-repeat;\n",
    "    background-size: auto 60px, auto 160px;\n",
    "    border-radius: 5px;\n",
    "    box-shadow: 0px 3px 1px -2px rgba(0, 0, 0, 0.2), 0px 2px 2px 0px rgba(0, 0, 0, 0.14), 0px 1px 5px 0px rgba(0,0,0,.12);\">\n",
    "\n",
    "<h1 style=\"\n",
    "    color: #2a4cdf;\n",
    "    font-style: normal;\n",
    "    font-size: 2.25rem;\n",
    "    line-height: 1.4em;\n",
    "    font-weight: 600;\n",
    "    padding: 30px 200px 0px 30px;\"> \n",
    "        Query the perovskite ion database in NOMAD</h1>\n",
    "\n",
    "<p style=\"\n",
    "    line-height: 1.4em;\n",
    "    padding: 30px 200px 0px 30px;\">\n",
    "        This notebook demonstrates how query NOMAD for all, as well as for specific perovskite ions. The notebook also shows how to validate the ions against the <a href=\"https://github.com/Jesperkemist/Perovskite_composition/blob/main/ion_schema.json\" target=\"_blank\">JSON Schema</a>\n",
    "\n",
    "<p style=\"font-size: 1.25em; font-style: italic; padding: 5px 200px 30px 30px;\">\n",
    "    José A. Márquez and Hampus Näsström\n",
    "</p>\n",
    "</div>"
   ]
  },
  {
   "cell_type": "markdown",
   "metadata": {},
   "source": [
    "### Basic imports"
   ]
  },
  {
   "cell_type": "code",
   "execution_count": 1,
   "metadata": {},
   "outputs": [],
   "source": [
    "import json\n",
    "\n",
    "import requests\n",
    "\n",
    "base_url = 'http://nomad-lab.eu/prod/v1/api/v1'"
   ]
  },
  {
   "cell_type": "markdown",
   "metadata": {},
   "source": [
    "### Query for an A site ion with abbreviation \"MA\""
   ]
  },
  {
   "cell_type": "code",
   "execution_count": 2,
   "metadata": {},
   "outputs": [
    {
     "name": "stdout",
     "output_type": "stream",
     "text": [
      "{\n",
      "  \"m_def\": \"perovskite_solar_cell_database.composition.PerovskiteAIon\",\n",
      "  \"name\": \"MA perovskite ion\",\n",
      "  \"datetime\": \"2024-12-18T14:46:39.211148+00:00\",\n",
      "  \"lab_id\": \"perovskite_ion_MA\",\n",
      "  \"common_name\": \"Methylammonium\",\n",
      "  \"molecular_formula\": \"CH6N+\",\n",
      "  \"smiles\": \"C[NH3+]\",\n",
      "  \"iupac_name\": \"methylazanium\",\n",
      "  \"cas_number\": \"17000-00-9\",\n",
      "  \"abbreviation\": \"MA\",\n",
      "  \"source_compound_molecular_formula\": \"CH5N\",\n",
      "  \"source_compound_smiles\": \"CN\",\n",
      "  \"source_compound_iupac_name\": \"methanamine\",\n",
      "  \"source_compound_cas_number\": \"74-89-5\",\n",
      "  \"elemental_composition\": [\n",
      "    {\n",
      "      \"element\": \"C\",\n",
      "      \"atomic_fraction\": 0.125,\n",
      "      \"mass_fraction\": 0.3745730552651735\n",
      "    },\n",
      "    {\n",
      "      \"element\": \"H\",\n",
      "      \"atomic_fraction\": 0.75,\n",
      "      \"mass_fraction\": 0.1886054095051807\n",
      "    },\n",
      "    {\n",
      "      \"element\": \"N\",\n",
      "      \"atomic_fraction\": 0.125,\n",
      "      \"mass_fraction\": 0.4368215352296457\n",
      "    }\n",
      "  ],\n",
      "  \"pure_substance\": {\n",
      "    \"name\": \"Methylammonium\",\n",
      "    \"iupac_name\": \"methylazanium\",\n",
      "    \"molecular_formula\": \"CH6N\",\n",
      "    \"molecular_mass\": 32.050024196,\n",
      "    \"molar_mass\": 32.065,\n",
      "    \"monoisotopic_mass\": 32.050024196,\n",
      "    \"inchi\": \"InChI=1S/CH5N/c1-2/h2H2,1H3/p+1\",\n",
      "    \"inchi_key\": \"BAVYZALUXZFZLV-UHFFFAOYSA-O\",\n",
      "    \"smile\": \"C[NH3+]\",\n",
      "    \"canonical_smile\": \"C[NH3+]\",\n",
      "    \"cas_number\": \"17000-00-9\",\n",
      "    \"pub_chem_cid\": 644041,\n",
      "    \"pub_chem_link\": \"https://pubchem.ncbi.nlm.nih.gov/compound/644041\"\n",
      "  },\n",
      "  \"source_compound\": {\n",
      "    \"name\": \"Methylamine\",\n",
      "    \"iupac_name\": \"methanamine\",\n",
      "    \"molecular_formula\": \"CH5N\",\n",
      "    \"molecular_mass\": 31.042199164,\n",
      "    \"molar_mass\": 31.057,\n",
      "    \"monoisotopic_mass\": 31.042199164,\n",
      "    \"inchi\": \"InChI=1S/CH5N/c1-2/h2H2,1H3\",\n",
      "    \"inchi_key\": \"BAVYZALUXZFZLV-UHFFFAOYSA-N\",\n",
      "    \"smile\": \"CN\",\n",
      "    \"canonical_smile\": \"CN\",\n",
      "    \"cas_number\": \"74-89-5\",\n",
      "    \"pub_chem_cid\": 6329,\n",
      "    \"pub_chem_link\": \"https://pubchem.ncbi.nlm.nih.gov/compound/6329\"\n",
      "  }\n",
      "}\n"
     ]
    }
   ],
   "source": [
    "response = requests.post(\n",
    "    f'{base_url}/entries/archive/query',\n",
    "    json={\n",
    "        'owner': 'visible',\n",
    "        'query': {\n",
    "            'data.abbreviation#perovskite_solar_cell_database.composition.PerovskiteAIon:any': [\n",
    "                'MA'\n",
    "            ]\n",
    "        },\n",
    "        'pagination': {'page_size': 1},\n",
    "    },\n",
    ")\n",
    "response_json = response.json()\n",
    "ion_data = response_json['data'][0]['archive']['data']\n",
    "print(json.dumps(ion_data, indent=2))"
   ]
  },
  {
   "cell_type": "markdown",
   "metadata": {},
   "source": [
    "### Validate response against JSON Schema"
   ]
  },
  {
   "cell_type": "code",
   "execution_count": 3,
   "metadata": {},
   "outputs": [
    {
     "name": "stdout",
     "output_type": "stream",
     "text": [
      "ion_data is valid against the https://raw.githubusercontent.com/Jesperkemist/Perovskite_composition/v1.0.0/ion_schema.json schema.\n"
     ]
    }
   ],
   "source": [
    "from jsonschema import ValidationError, validate\n",
    "\n",
    "schema_id = (\n",
    "    'https://raw.githubusercontent.com/Jesperkemist/'\n",
    "    'Perovskite_composition/v1.0.0/ion_schema.json'\n",
    ")\n",
    "\n",
    "# Load the JSON schema from the URL\n",
    "schema_response = requests.get(schema_id)\n",
    "schema = schema_response.json()\n",
    "\n",
    "# Validate ion_data against the schema\n",
    "try:\n",
    "    validate(instance=ion_data, schema=schema)\n",
    "    print(f'ion_data is valid against the {schema_id} schema.')\n",
    "except ValidationError as e:\n",
    "    print('Validation error:', e.message)"
   ]
  },
  {
   "cell_type": "markdown",
   "metadata": {},
   "source": [
    "### Query all ions in the database"
   ]
  },
  {
   "cell_type": "code",
   "execution_count": 4,
   "metadata": {},
   "outputs": [
    {
     "name": "stdout",
     "output_type": "stream",
     "text": [
      "Retrieved 332 ion entries.\n"
     ]
    }
   ],
   "source": [
    "json_body = {\n",
    "    'owner': 'visible',\n",
    "    'query': {\n",
    "        'results.eln.sections:any': [\n",
    "            'PerovskiteAIon',\n",
    "            'PerovskiteBIon',\n",
    "            'PerovskiteXIon',\n",
    "        ],\n",
    "    },\n",
    "    'pagination': {\n",
    "        'page_size': 10,\n",
    "    },\n",
    "}\n",
    "\n",
    "all_ion_data = {}\n",
    "\n",
    "while len(all_ion_data) < 500:\n",
    "    response = requests.post(f'{base_url}/entries/archive/query', json=json_body)\n",
    "    response_json = response.json()\n",
    "\n",
    "    for entry in response_json['data']:\n",
    "        abbreviation = entry['archive']['data']['abbreviation']\n",
    "        if abbreviation in all_ion_data:\n",
    "            print(f'Duplicate entry found for abbreviation: {abbreviation}')\n",
    "        all_ion_data[abbreviation] = entry['archive']['data']\n",
    "\n",
    "    next_value = response_json['pagination'].get('next_page_after_value')\n",
    "    if not next_value:\n",
    "        break\n",
    "    json_body['pagination']['page_after_value'] = next_value\n",
    "\n",
    "print(f'Retrieved {len(all_ion_data)} ion entries.')"
   ]
  },
  {
   "cell_type": "code",
   "execution_count": 5,
   "metadata": {},
   "outputs": [
    {
     "name": "stdout",
     "output_type": "stream",
     "text": [
      "{\n",
      "  \"m_def\": \"perovskite_solar_cell_database.composition.PerovskiteAIon\",\n",
      "  \"name\": \"MA perovskite ion\",\n",
      "  \"datetime\": \"2024-12-18T14:46:39.211148+00:00\",\n",
      "  \"lab_id\": \"perovskite_ion_MA\",\n",
      "  \"common_name\": \"Methylammonium\",\n",
      "  \"molecular_formula\": \"CH6N+\",\n",
      "  \"smiles\": \"C[NH3+]\",\n",
      "  \"iupac_name\": \"methylazanium\",\n",
      "  \"cas_number\": \"17000-00-9\",\n",
      "  \"abbreviation\": \"MA\",\n",
      "  \"source_compound_molecular_formula\": \"CH5N\",\n",
      "  \"source_compound_smiles\": \"CN\",\n",
      "  \"source_compound_iupac_name\": \"methanamine\",\n",
      "  \"source_compound_cas_number\": \"74-89-5\",\n",
      "  \"elemental_composition\": [\n",
      "    {\n",
      "      \"element\": \"C\",\n",
      "      \"atomic_fraction\": 0.125,\n",
      "      \"mass_fraction\": 0.3745730552651735\n",
      "    },\n",
      "    {\n",
      "      \"element\": \"H\",\n",
      "      \"atomic_fraction\": 0.75,\n",
      "      \"mass_fraction\": 0.1886054095051807\n",
      "    },\n",
      "    {\n",
      "      \"element\": \"N\",\n",
      "      \"atomic_fraction\": 0.125,\n",
      "      \"mass_fraction\": 0.4368215352296457\n",
      "    }\n",
      "  ],\n",
      "  \"pure_substance\": {\n",
      "    \"name\": \"Methylammonium\",\n",
      "    \"iupac_name\": \"methylazanium\",\n",
      "    \"molecular_formula\": \"CH6N\",\n",
      "    \"molecular_mass\": 32.050024196,\n",
      "    \"molar_mass\": 32.065,\n",
      "    \"monoisotopic_mass\": 32.050024196,\n",
      "    \"inchi\": \"InChI=1S/CH5N/c1-2/h2H2,1H3/p+1\",\n",
      "    \"inchi_key\": \"BAVYZALUXZFZLV-UHFFFAOYSA-O\",\n",
      "    \"smile\": \"C[NH3+]\",\n",
      "    \"canonical_smile\": \"C[NH3+]\",\n",
      "    \"cas_number\": \"17000-00-9\",\n",
      "    \"pub_chem_cid\": 644041,\n",
      "    \"pub_chem_link\": \"https://pubchem.ncbi.nlm.nih.gov/compound/644041\"\n",
      "  },\n",
      "  \"source_compound\": {\n",
      "    \"name\": \"Methylamine\",\n",
      "    \"iupac_name\": \"methanamine\",\n",
      "    \"molecular_formula\": \"CH5N\",\n",
      "    \"molecular_mass\": 31.042199164,\n",
      "    \"molar_mass\": 31.057,\n",
      "    \"monoisotopic_mass\": 31.042199164,\n",
      "    \"inchi\": \"InChI=1S/CH5N/c1-2/h2H2,1H3\",\n",
      "    \"inchi_key\": \"BAVYZALUXZFZLV-UHFFFAOYSA-N\",\n",
      "    \"smile\": \"CN\",\n",
      "    \"canonical_smile\": \"CN\",\n",
      "    \"cas_number\": \"74-89-5\",\n",
      "    \"pub_chem_cid\": 6329,\n",
      "    \"pub_chem_link\": \"https://pubchem.ncbi.nlm.nih.gov/compound/6329\"\n",
      "  }\n",
      "}\n"
     ]
    }
   ],
   "source": [
    "print(json.dumps(all_ion_data['MA'], indent=2))"
   ]
  }
 ],
 "metadata": {
  "kernelspec": {
   "display_name": ".venv",
   "language": "python",
   "name": "python3"
  },
  "language_info": {
   "codemirror_mode": {
    "name": "ipython",
    "version": 3
   },
   "file_extension": ".py",
   "mimetype": "text/x-python",
   "name": "python",
   "nbconvert_exporter": "python",
   "pygments_lexer": "ipython3",
   "version": "3.12.7"
  }
 },
 "nbformat": 4,
 "nbformat_minor": 2
}
